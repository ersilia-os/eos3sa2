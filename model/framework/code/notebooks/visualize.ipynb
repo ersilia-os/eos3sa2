{
 "cells": [
  {
   "cell_type": "markdown",
   "id": "9cc6940d",
   "metadata": {},
   "source": [
    "# Plotting Few-Shot Model Evaluation Results\n",
    "\n",
    "Assembling plots from summary files."
   ]
  },
  {
   "cell_type": "code",
   "execution_count": 1,
   "id": "648ec364",
   "metadata": {},
   "outputs": [],
   "source": [
    "import os\n",
    "import sys\n",
    "import pandas as pd\n",
    "\n",
    "# Setting up local details:\n",
    "# This should be the location of the checkout of the FS-Mol repository:\n",
    "FS_MOL_CHECKOUT_PATH = os.path.join(os.environ['HOME'], \"Projects\", \"open_source/FS-Mol\")\n",
    "FS_MOL_DATASET_PATH = os.path.join(os.environ['HOME'], \"Datasets\", \"FS-Mol\")\n",
    "\n",
    "os.chdir(FS_MOL_CHECKOUT_PATH)\n",
    "sys.path.insert(0, FS_MOL_CHECKOUT_PATH)\n",
    "\n",
    "from fs_mol.plotting.utils import (\n",
    "    highlight_max_all, \n",
    "    plot_all_assays, \n",
    "    load_data,\n",
    "    expand_values,\n",
    "    plot_task_performances_by_id,\n",
    "    box_plot,\n",
    "    plot_by_size,\n",
    "    get_aggregates_across_sizes\n",
    ")"
   ]
  },
  {
   "cell_type": "markdown",
   "id": "babd98c9",
   "metadata": {},
   "source": [
    "## Making summary files\n",
    "\n",
    "Summary files are obtained by running `fs_mol/plotting/collect_eval_runs.py` on the outputs of evaluation runs. If an evaluation output directory is \"evaluation_output_directory\" then summary files are created with: "
   ]
  },
  {
   "cell_type": "code",
   "execution_count": null,
   "id": "fe05c7b9",
   "metadata": {},
   "outputs": [],
   "source": [
    "! python fs_mol/plotting/collect_eval_runs.py {model_name} {evaluation_output_directory} --plot"
   ]
  },
  {
   "cell_type": "markdown",
   "id": "bd81bb9e",
   "metadata": {},
   "source": [
    "The option `--plot` results in a plot across support set sizes for each few-shot testing task. Final summarized results will be found in \"evaluation_output_directory/summary/{model_name}_summary.csv\""
   ]
  },
  {
   "cell_type": "markdown",
   "id": "a9e4c16c",
   "metadata": {},
   "source": [
    "## Loading the collated evaluation data\n",
    "\n",
    "Create a dictionary of all model summary .csvs to be compared. The csvs are the final summaries from `collect_eval_runs.py`"
   ]
  },
  {
   "cell_type": "code",
   "execution_count": 2,
   "id": "b5d28293",
   "metadata": {},
   "outputs": [],
   "source": [
    "# Configure this to contain all the models that you want to look at.\n",
    "# Dict keys are human readable names, values are the path to the summary produced by collect_eval_runs.py\n",
    "results_path = os.path.join(FS_MOL_CHECKOUT_PATH, \"baselines\")\n",
    "\n",
    "# a dictionary summarising all models to be compared. Add new paths here as desired.\n",
    "model_summaries = {\n",
    "    \"PN\": os.path.join(results_path, \"ProtoNet-gnn+ecfp+fc-Support64_summary.csv\"),\n",
    "    \"GNN-MAML\": os.path.join(results_path, \"MAML-Support16_summary.csv\"),\n",
    "    \"GNN-MT\": os.path.join(results_path, \"GNN-Multitask_summary.csv\"),\n",
    "    \"RF\": os.path.join(results_path, \"random_forest_summary.csv\"),\n",
    "    \"MAT\": os.path.join(results_path, \"MAT_summary.csv\"),\n",
    "    \"GNN-ST\": os.path.join(results_path, \"GNN-ST_summary.csv\"),\n",
    "#     \"kNN\": os.path.join(results_path, \"kNN_summary.csv\"),\n",
    "}\n",
    "# Generated plots will be stored here, if you want to keep them. None disables saving.\n",
    "plot_output_dir = os.path.join(results_path, \"plots\")\n",
    "all_tasks_output_dir = os.path.join(results_path, \"plots/all_tasks\")\n",
    "os.makedirs(plot_output_dir, exist_ok=True)\n",
    "os.makedirs(all_tasks_output_dir, exist_ok=True)"
   ]
  },
  {
   "cell_type": "code",
   "execution_count": 3,
   "id": "83e524e1",
   "metadata": {},
   "outputs": [
    {
     "name": "stdout",
     "output_type": "stream",
     "text": [
      "Loading data for PN from /home/megstanley/Projects/open_source/FS-Mol/baselines/ProtoNet-gnn+ecfp+fc-Support64_summary.csv.\n",
      "Loading data for GNN-MAML from /home/megstanley/Projects/open_source/FS-Mol/baselines/MAML-Support16_summary.csv.\n",
      "Loading data for GNN-MT from /home/megstanley/Projects/open_source/FS-Mol/baselines/GNN-Multitask_summary.csv.\n",
      "Loading data for RF from /home/megstanley/Projects/open_source/FS-Mol/baselines/random_forest_summary.csv.\n",
      "Loading data for MAT from /home/megstanley/Projects/open_source/FS-Mol/baselines/MAT_summary.csv.\n",
      "Loading data for GNN-ST from /home/megstanley/Projects/open_source/FS-Mol/baselines/GNN-ST_summary.csv.\n"
     ]
    }
   ],
   "source": [
    "data = load_data(model_summaries)"
   ]
  },
  {
   "cell_type": "markdown",
   "id": "0afabd3f",
   "metadata": {},
   "source": [
    "## Highlight the best result for each task"
   ]
  },
  {
   "cell_type": "code",
   "execution_count": null,
   "id": "26982b2f",
   "metadata": {
    "scrolled": true
   },
   "outputs": [],
   "source": [
    "styled_df = data.style.apply(lambda row: highlight_max_all(row), axis=1)\n",
    "# To save for exporting purposes, uncomment this (requires `pip install xlsxwriter`)\n",
    "styled_df.to_excel(os.path.join(plot_output_dir, f\"highlighted_comparison.xlsx\"), engine='xlsxwriter')\n",
    "\n",
    "styled_df"
   ]
  },
  {
   "cell_type": "code",
   "execution_count": 4,
   "id": "36a47a14",
   "metadata": {},
   "outputs": [],
   "source": [
    "# expand out from val +/- error format, and calculate delta AUPRC\n",
    "data = expand_values(data, model_summaries)"
   ]
  },
  {
   "cell_type": "markdown",
   "id": "7b393af9",
   "metadata": {},
   "source": [
    "## Performance Overview over all Tasks\n",
    "\n",
    "This compares with the trivial baseline of using a weighted coinflip according to the class imbalance in the training data."
   ]
  },
  {
   "cell_type": "code",
   "execution_count": null,
   "id": "e8b700db",
   "metadata": {},
   "outputs": [],
   "source": [
    "# This uses Latex to render plots, and requires the type1ec and type1cm packages.\n",
    "# It also required the dvipng utility.\n",
    "# On Debian/Ubuntu-based systems, this can be installed using `apt install cm-super texlive-latex-extra dvipng`\n",
    "\n",
    "plot_task_performances_by_id(data, model_summaries, support_set_size = 16)"
   ]
  },
  {
   "cell_type": "markdown",
   "id": "728ec0b2",
   "metadata": {},
   "source": [
    "### Incorporate protein information\n",
    "\n",
    "Our test tasks have associated target protein information available. We can merge this data to allow plotting with specific EC number classes highlighted."
   ]
  },
  {
   "cell_type": "code",
   "execution_count": 5,
   "id": "01076514",
   "metadata": {},
   "outputs": [],
   "source": [
    "protein_path = os.path.join(FS_MOL_CHECKOUT_PATH, \"datasets/targets\", \"test_proteins.csv\")\n",
    "ecs = pd.read_csv(protein_path)\n",
    "ecs[\"target_id\"] = ecs[\"target_id\"].astype(int).astype(str)\n",
    "ecs[\"chembl_id\"] = ecs[\"chembl_id\"].astype(str)\n",
    "ecs[\"TASK_ID\"] = ecs.apply(lambda row: row[\"chembl_id\"][6:], axis = 1)\n",
    "\n",
    "data = ecs.merge(data, on=\"TASK_ID\")"
   ]
  },
  {
   "cell_type": "code",
   "execution_count": null,
   "id": "c70c1552",
   "metadata": {},
   "outputs": [],
   "source": [
    "# the highlight class is the EC class that will be highlighted in the resulting plot. \n",
    "# You may wish to use this for comparison across different EC classes.\n",
    "# plot_task_performances_by_id(data, model_summaries, support_set_size = 16, highlight_class = 2)"
   ]
  },
  {
   "cell_type": "markdown",
   "id": "0d151c11",
   "metadata": {},
   "source": [
    "## Plot for each task, comparing different models\n",
    "\n",
    "This makes an individual comparison plot over models for each few-shot testing task, across all support set sizes available. \n",
    "\n",
    "**Warning** Not to use lightly, it will take a few minutes to complete"
   ]
  },
  {
   "cell_type": "code",
   "execution_count": null,
   "id": "38864967",
   "metadata": {},
   "outputs": [],
   "source": [
    "# plot_all_assays(data, model_summaries.keys(), results_dir = all_tasks_output_dir)"
   ]
  },
  {
   "cell_type": "markdown",
   "id": "b0319bf2",
   "metadata": {},
   "source": [
    "# Summarise the overall performance in box plots\n",
    "\n",
    "This reproduces the model comparison box plots in the manuscript."
   ]
  },
  {
   "cell_type": "code",
   "execution_count": 6,
   "id": "a93343fb",
   "metadata": {},
   "outputs": [
    {
     "data": {
      "image/png": "[encoded data removed]",
      "text/plain": [
       "<Figure size 720x720 with 1 Axes>"
      ]
     },
     "metadata": {
      "needs_background": "light"
     },
     "output_type": "display_data"
    }
   ],
   "source": [
    "box_plot(data, model_summaries, support_set_size = 16, plot_output_dir=plot_output_dir)"
   ]
  },
  {
   "cell_type": "markdown",
   "id": "46adcfcc",
   "metadata": {},
   "source": [
    "## Aggregate as a function of the number of training points, across all categories\n",
    "\n",
    "Here the results are aggregated according to EC class, and across all classes. This is used to plot the variation of performance with support set size, comparing all models in the model_summaries dictionary. "
   ]
  },
  {
   "cell_type": "code",
   "execution_count": 7,
   "id": "bc41791d",
   "metadata": {},
   "outputs": [],
   "source": [
    "aggregate_df = get_aggregates_across_sizes(data, model_summaries)"
   ]
  },
  {
   "cell_type": "code",
   "execution_count": 8,
   "id": "415188aa",
   "metadata": {},
   "outputs": [
    {
     "data": {
      "text/html": [
       "<div>\n",
       "<style scoped>\n",
       "    .dataframe tbody tr th:only-of-type {\n",
       "        vertical-align: middle;\n",
       "    }\n",
       "\n",
       "    .dataframe tbody tr th {\n",
       "        vertical-align: top;\n",
       "    }\n",
       "\n",
       "    .dataframe thead th {\n",
       "        text-align: right;\n",
       "    }\n",
       "</style>\n",
       "<table border=\"1\" class=\"dataframe\">\n",
       "  <thead>\n",
       "    <tr style=\"text-align: right;\">\n",
       "      <th></th>\n",
       "      <th>16_train (PN)</th>\n",
       "      <th>16_train (GNN-MAML)</th>\n",
       "      <th>16_train (GNN-MT)</th>\n",
       "      <th>16_train (RF)</th>\n",
       "      <th>16_train (MAT)</th>\n",
       "      <th>16_train (GNN-ST)</th>\n",
       "      <th>16_train (PN) std</th>\n",
       "      <th>16_train (GNN-MAML) std</th>\n",
       "      <th>16_train (GNN-MT) std</th>\n",
       "      <th>16_train (RF) std</th>\n",
       "      <th>16_train (MAT) std</th>\n",
       "      <th>16_train (GNN-ST) std</th>\n",
       "    </tr>\n",
       "    <tr>\n",
       "      <th>EC_category</th>\n",
       "      <th></th>\n",
       "      <th></th>\n",
       "      <th></th>\n",
       "      <th></th>\n",
       "      <th></th>\n",
       "      <th></th>\n",
       "      <th></th>\n",
       "      <th></th>\n",
       "      <th></th>\n",
       "      <th></th>\n",
       "      <th></th>\n",
       "      <th></th>\n",
       "    </tr>\n",
       "  </thead>\n",
       "  <tbody>\n",
       "    <tr>\n",
       "      <th>3</th>\n",
       "      <td>0.196353</td>\n",
       "      <td>0.106003</td>\n",
       "      <td>0.128753</td>\n",
       "      <td>0.157903</td>\n",
       "      <td>0.095203</td>\n",
       "      <td>0.061853</td>\n",
       "      <td>0.030614</td>\n",
       "      <td>0.023623</td>\n",
       "      <td>0.024603</td>\n",
       "      <td>0.027580</td>\n",
       "      <td>0.019478</td>\n",
       "      <td>0.018902</td>\n",
       "    </tr>\n",
       "    <tr>\n",
       "      <th>2</th>\n",
       "      <td>0.216894</td>\n",
       "      <td>0.177998</td>\n",
       "      <td>0.113422</td>\n",
       "      <td>0.081974</td>\n",
       "      <td>0.043446</td>\n",
       "      <td>0.012974</td>\n",
       "      <td>0.009112</td>\n",
       "      <td>0.009208</td>\n",
       "      <td>0.005990</td>\n",
       "      <td>0.006649</td>\n",
       "      <td>0.004940</td>\n",
       "      <td>0.004270</td>\n",
       "    </tr>\n",
       "    <tr>\n",
       "      <th>1</th>\n",
       "      <td>0.086344</td>\n",
       "      <td>0.045629</td>\n",
       "      <td>0.045487</td>\n",
       "      <td>0.081344</td>\n",
       "      <td>0.062487</td>\n",
       "      <td>0.012915</td>\n",
       "      <td>0.029424</td>\n",
       "      <td>0.023162</td>\n",
       "      <td>0.012850</td>\n",
       "      <td>0.031665</td>\n",
       "      <td>0.024324</td>\n",
       "      <td>0.018900</td>\n",
       "    </tr>\n",
       "    <tr>\n",
       "      <th>4</th>\n",
       "      <td>0.228682</td>\n",
       "      <td>0.218182</td>\n",
       "      <td>0.189182</td>\n",
       "      <td>0.218182</td>\n",
       "      <td>0.139182</td>\n",
       "      <td>0.160682</td>\n",
       "      <td>0.201331</td>\n",
       "      <td>0.146831</td>\n",
       "      <td>0.099831</td>\n",
       "      <td>0.171831</td>\n",
       "      <td>0.105831</td>\n",
       "      <td>0.112331</td>\n",
       "    </tr>\n",
       "    <tr>\n",
       "      <th>5</th>\n",
       "      <td>0.117013</td>\n",
       "      <td>0.006013</td>\n",
       "      <td>0.083013</td>\n",
       "      <td>0.119013</td>\n",
       "      <td>0.040013</td>\n",
       "      <td>-0.013987</td>\n",
       "      <td>0.047000</td>\n",
       "      <td>0.021000</td>\n",
       "      <td>0.054000</td>\n",
       "      <td>0.029000</td>\n",
       "      <td>0.044000</td>\n",
       "      <td>0.015000</td>\n",
       "    </tr>\n",
       "    <tr>\n",
       "      <th>7</th>\n",
       "      <td>0.054888</td>\n",
       "      <td>-0.002112</td>\n",
       "      <td>0.041888</td>\n",
       "      <td>0.101888</td>\n",
       "      <td>0.067888</td>\n",
       "      <td>0.002888</td>\n",
       "      <td>0.052000</td>\n",
       "      <td>0.021000</td>\n",
       "      <td>0.031000</td>\n",
       "      <td>0.053000</td>\n",
       "      <td>0.035000</td>\n",
       "      <td>0.043000</td>\n",
       "    </tr>\n",
       "    <tr>\n",
       "      <th>6</th>\n",
       "      <td>0.058410</td>\n",
       "      <td>0.001410</td>\n",
       "      <td>0.046410</td>\n",
       "      <td>0.027410</td>\n",
       "      <td>0.010410</td>\n",
       "      <td>-0.010590</td>\n",
       "      <td>0.074000</td>\n",
       "      <td>0.017000</td>\n",
       "      <td>0.050000</td>\n",
       "      <td>0.069000</td>\n",
       "      <td>0.075000</td>\n",
       "      <td>0.003000</td>\n",
       "    </tr>\n",
       "    <tr>\n",
       "      <th>all</th>\n",
       "      <td>0.205929</td>\n",
       "      <td>0.160069</td>\n",
       "      <td>0.112235</td>\n",
       "      <td>0.093369</td>\n",
       "      <td>0.052031</td>\n",
       "      <td>0.020694</td>\n",
       "      <td>0.008879</td>\n",
       "      <td>0.008724</td>\n",
       "      <td>0.005966</td>\n",
       "      <td>0.007035</td>\n",
       "      <td>0.005089</td>\n",
       "      <td>0.004705</td>\n",
       "    </tr>\n",
       "  </tbody>\n",
       "</table>\n",
       "</div>"
      ],
      "text/plain": [
       "             16_train (PN)  16_train (GNN-MAML)  16_train (GNN-MT)  \\\n",
       "EC_category                                                          \n",
       "3                 0.196353             0.106003           0.128753   \n",
       "2                 0.216894             0.177998           0.113422   \n",
       "1                 0.086344             0.045629           0.045487   \n",
       "4                 0.228682             0.218182           0.189182   \n",
       "5                 0.117013             0.006013           0.083013   \n",
       "7                 0.054888            -0.002112           0.041888   \n",
       "6                 0.058410             0.001410           0.046410   \n",
       "all               0.205929             0.160069           0.112235   \n",
       "\n",
       "             16_train (RF)  16_train (MAT)  16_train (GNN-ST)  \\\n",
       "EC_category                                                     \n",
       "3                 0.157903        0.095203           0.061853   \n",
       "2                 0.081974        0.043446           0.012974   \n",
       "1                 0.081344        0.062487           0.012915   \n",
       "4                 0.218182        0.139182           0.160682   \n",
       "5                 0.119013        0.040013          -0.013987   \n",
       "7                 0.101888        0.067888           0.002888   \n",
       "6                 0.027410        0.010410          -0.010590   \n",
       "all               0.093369        0.052031           0.020694   \n",
       "\n",
       "             16_train (PN) std  16_train (GNN-MAML) std  \\\n",
       "EC_category                                               \n",
       "3                     0.030614                 0.023623   \n",
       "2                     0.009112                 0.009208   \n",
       "1                     0.029424                 0.023162   \n",
       "4                     0.201331                 0.146831   \n",
       "5                     0.047000                 0.021000   \n",
       "7                     0.052000                 0.021000   \n",
       "6                     0.074000                 0.017000   \n",
       "all                   0.008879                 0.008724   \n",
       "\n",
       "             16_train (GNN-MT) std  16_train (RF) std  16_train (MAT) std  \\\n",
       "EC_category                                                                 \n",
       "3                         0.024603           0.027580            0.019478   \n",
       "2                         0.005990           0.006649            0.004940   \n",
       "1                         0.012850           0.031665            0.024324   \n",
       "4                         0.099831           0.171831            0.105831   \n",
       "5                         0.054000           0.029000            0.044000   \n",
       "7                         0.031000           0.053000            0.035000   \n",
       "6                         0.050000           0.069000            0.075000   \n",
       "all                       0.005966           0.007035            0.005089   \n",
       "\n",
       "             16_train (GNN-ST) std  \n",
       "EC_category                         \n",
       "3                         0.018902  \n",
       "2                         0.004270  \n",
       "1                         0.018900  \n",
       "4                         0.112331  \n",
       "5                         0.015000  \n",
       "7                         0.043000  \n",
       "6                         0.003000  \n",
       "all                       0.004705  "
      ]
     },
     "execution_count": 8,
     "metadata": {},
     "output_type": "execute_result"
    }
   ],
   "source": [
    "# show results of Table 2 for support set size 16\n",
    "cols = [x for x  in aggregate_df.columns if x.startswith(\"16\")]\n",
    "aggregate_df[cols]"
   ]
  },
  {
   "cell_type": "code",
   "execution_count": 9,
   "id": "025ee4ca",
   "metadata": {},
   "outputs": [
    {
     "data": {
      "image/png": "[encoded data removed]",
      "text/plain": [
       "<Figure size 720x720 with 1 Axes>"
      ]
     },
     "metadata": {
      "needs_background": "light"
     },
     "output_type": "display_data"
    }
   ],
   "source": [
    "# this function has the option to plot all classes separately.\n",
    "plot_by_size(aggregate_df, model_summaries, plot_output_dir = plot_output_dir)"
   ]
  },
  {
   "cell_type": "markdown",
   "id": "4fac30dd",
   "metadata": {},
   "source": [
    "# Ranking\n",
    "\n",
    "Here we use [autorank](https://pypi.org/project/autorank/) for an appropriate comparison between all methods when evaluated on multiple tasks.\n"
   ]
  },
  {
   "cell_type": "code",
   "execution_count": 10,
   "id": "5a2cd887",
   "metadata": {},
   "outputs": [],
   "source": [
    "from autorank import autorank\n",
    "\n",
    "# select correct data to rank with autorank\n",
    "for size in [16]:\n",
    "\n",
    "    df = data[[x for x in list(data.columns) if x.startswith(f\"{size}\") and \"val\" in x and \"delta-auprc\" in x]]"
   ]
  },
  {
   "cell_type": "code",
   "execution_count": 11,
   "id": "f2711e7c",
   "metadata": {},
   "outputs": [
    {
     "data": {
      "text/plain": [
       "16_train (PN) val delta-auprc          1.560510\n",
       "16_train (GNN-MAML) val delta-auprc    2.748408\n",
       "16_train (GNN-MT) val delta-auprc      3.168790\n",
       "16_train (RF) val delta-auprc          3.554140\n",
       "16_train (MAT) val delta-auprc         4.745223\n",
       "16_train (GNN-ST) val delta-auprc      5.222930\n",
       "Name: meanrank, dtype: float64"
      ]
     },
     "execution_count": 11,
     "metadata": {},
     "output_type": "execute_result"
    }
   ],
   "source": [
    "result = autorank(df, verbose=False)\n",
    "result.rankdf[\"meanrank\"]"
   ]
  },
  {
   "cell_type": "code",
   "execution_count": null,
   "id": "15965550",
   "metadata": {},
   "outputs": [],
   "source": []
  }
 ],
 "metadata": {
  "interpreter": {
   "hash": "91c2cdb63b030871da94aa046e171a8c212268d3e9d71e3496f8c89eaedb0da0"
  },
  "kernelspec": {
   "display_name": "fsmol",
   "language": "python",
   "name": "fsmol"
  },
  "language_info": {
   "codemirror_mode": {
    "name": "ipython",
    "version": 3
   },
   "file_extension": ".py",
   "mimetype": "text/x-python",
   "name": "python",
   "nbconvert_exporter": "python",
   "pygments_lexer": "ipython3",
   "version": "3.7.10"
  }
 },
 "nbformat": 4,
 "nbformat_minor": 5
}
